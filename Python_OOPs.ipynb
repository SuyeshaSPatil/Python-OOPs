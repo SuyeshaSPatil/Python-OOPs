{
  "nbformat": 4,
  "nbformat_minor": 0,
  "metadata": {
    "colab": {
      "provenance": []
    },
    "kernelspec": {
      "name": "python3",
      "display_name": "Python 3"
    },
    "language_info": {
      "name": "python"
    }
  },
  "cells": [
    {
      "cell_type": "markdown",
      "source": [
        "#Python OOPs:"
      ],
      "metadata": {
        "id": "38kc_tielYLf"
      }
    },
    {
      "cell_type": "markdown",
      "source": [
        "1. What is Object-Oriented Programming (OOP)?\n",
        "-   OOP is a programming paradigm based on the concept of objects, which can contain data (attributes/variables) and methods (functions). It helps in code reusability, modularity, abstraction, and easier maintenance.\n",
        "\n",
        "2. What is a class in OOP?\n",
        "-  A class is a blueprint or template that defines the structure and behavior (methods) of objects.\n",
        "-    Example:\n",
        "    class Car:\n",
        "    def __init__(self, brand, model):\n",
        "        self.brand = brand\n",
        "        self.model = model\n",
        "\n",
        "3. What is an object in OOP?\n",
        "-  An object is an instance of a class that holds actual data.\n",
        "\n",
        "-    Example:\n",
        "    my_car = Car(\"Toyota\", \"Corolla\")\n",
        "\n",
        "4. What is the difference between abstraction and encapsulation?\n",
        "-  Abstraction → Hiding implementation details and showing only essential features (focus on what an object does).\n",
        "\n",
        "-  Encapsulation → Wrapping data and methods into a single unit and restricting direct access (focus on how data is hidden).\n",
        "\n",
        "5. What are dunder methods in Python?\n",
        "-  Dunder (double underscore) methods are special methods in Python that start and end with __.\n",
        "-    Examples:\n",
        "    __init__ → constructor\n",
        "\n",
        "    __str__ → string representation\n",
        "\n",
        "    __len__ → length support\n",
        "\n",
        "6. Explain the concept of inheritance in OOP?\n",
        "-  Inheritance allows a class (child) to acquire properties and behaviors of another class (parent).\n",
        "-    Examples:\n",
        "    class Animal:\n",
        "        def speak(self):\n",
        "            return \"Some sound\"\n",
        "\n",
        "    class Dog(Animal):\n",
        "        def speak(self):\n",
        "            return \"Bark\"\n",
        "\n",
        "7. What is polymorphism in OOP?\n",
        "-  Polymorphism means one interface, many implementations. The same method name can behave differently depending on the object.\n",
        "\n",
        "8. How is encapsulation achieved in Python?\n",
        "-  Encapsulation is achieved using private/protected attributes with _ or __.\n",
        "\n",
        "-    Example:\n",
        "    class Bank:\n",
        "        def __init__(self, balance):\n",
        "            self.__balance = balance\n",
        "\n",
        "\n",
        "9. What is a constructor in Python?\n",
        "-   The __init__ method is the constructor that initializes object attributes when an object is created.\n",
        "\n",
        "10. What are class and static methods in Python?\n",
        "-   Class method (@classmethod) → takes cls as parameter and can access/modify class variables.\n",
        "\n",
        "-   Static method (@staticmethod) → does not take self or cls, used for utility functions.\n",
        "\n",
        "11. What is method overloading in Python?\n",
        "-   Python does not support traditional overloading. Instead, default arguments or *args are used to mimic it.\n",
        "\n",
        "12. What is method overriding in OOP?\n",
        "-   When a child class provides its own implementation of a method defined in the parent class.\n",
        "\n",
        "13. What is a property decorator in Python?\n",
        "-   @property is used to define getter, setter, and deleter methods for attributes.\n",
        "\n",
        "14. Why is polymorphism important in OOP?\n",
        "-   It allows flexibility and reusability by enabling the same method name to work with different types of objects.\n",
        "\n",
        "15. What is an abstract class in Python?\n",
        "-   A class that cannot be instantiated directly and may have abstract methods (declared but not implemented). Implemented using abc module.\n",
        "\n",
        "16. What are the advantages of OOP?\n",
        "-   Code reusability\n",
        "\n",
        "-   Modularity\n",
        "\n",
        "-   Data security (encapsulation)\n",
        "\n",
        "-   Easier maintenance\n",
        "\n",
        "-   Real-world modeling\n",
        "\n",
        "17. What is the difference between a class variable and an instance variable?\n",
        "-   Class variable → shared across all objects of a class.\n",
        "\n",
        "-   Instance variable → unique for each object.\n",
        "\n",
        "18. What is multiple inheritance in Python?\n",
        "-  A class can inherit from more than one parent class.\n",
        "\n",
        "-    Example:\n",
        "    class A: pass\n",
        "    class B: pass\n",
        "    class C(A, B): pass\n",
        "\n",
        "\n",
        "19. Explain the purpose of ‘’__str__’ and ‘__repr__’ ‘ methods in Python?\n",
        "-    __str__ → returns a user-friendly string (for print).\n",
        "\n",
        "-   __repr__ → returns a developer-friendly string (debugging).\n",
        "\n",
        "20. What is the significance of the ‘super()’ function in Python?\n",
        "-   super() is used to call parent class methods inside child class.\n",
        "\n",
        "21. What is the significance of the __del__ method in Python?\n",
        "-   It is a destructor method called when an object is deleted or goes out of scope.\n",
        "\n",
        "22. What is the difference between @staticmethod and @classmethod in Python?\n",
        "-   @staticmethod → No cls or self. Utility function.\n",
        "\n",
        "-   @classmethod → Takes cls, can modify class-level variables.\n",
        "\n",
        "23. How does polymorphism work in Python with inheritance?\n",
        "-   By overriding methods, different classes provide different implementations of the same method name.\n",
        "\n",
        "24. What is method chaining in Python OOP?\n",
        "-   Calling multiple methods on the same object in a single line by returning self.\n",
        "-     Example:\n",
        "      class Person:\n",
        "          def set_name(self, name):\n",
        "              self.name = name\n",
        "              return self\n",
        "          def set_age(self, age):\n",
        "              self.age = age\n",
        "              return self\n",
        "\n",
        "    p = Person().set_name(\"Suyesha\").set_age(22)\n",
        "\n",
        "\n",
        "25. What is the purpose of the __call__ method in Python?\n",
        "-   Makes an object callable like a function.\n",
        "-     Example:\n",
        "      class Adder:\n",
        "          def __call__(self, x, y):\n",
        "          return x + y\n",
        "\n",
        "      obj = Adder()\n",
        "      print(obj(5, 10))\n"
      ],
      "metadata": {
        "id": "w55y4DBIUWMI"
      }
    },
    {
      "cell_type": "markdown",
      "source": [
        "# Practical Questions"
      ],
      "metadata": {
        "id": "5QSOUkOwruX-"
      }
    },
    {
      "cell_type": "code",
      "source": [
        "# 1. Create a parent class Animal with a method speak() that prints a generic message. Create a child class Dog that overrides the speak() method to print \"Bark!\".\n",
        "\n",
        "class Animal:\n",
        "    def speak(self):\n",
        "        print(\"Animal makes a sound\")\n",
        "\n",
        "class Dog(Animal):\n",
        "    def speak(self):\n",
        "        print(\"Bark!\")\n",
        "\n",
        "dog = Dog()\n",
        "dog.speak()\n"
      ],
      "metadata": {
        "id": "vSruccDxVb6o",
        "colab": {
          "base_uri": "https://localhost:8080/"
        },
        "outputId": "4999c8d3-7d4a-406a-dd5e-452cbea619dd"
      },
      "execution_count": 1,
      "outputs": [
        {
          "output_type": "stream",
          "name": "stdout",
          "text": [
            "Bark!\n"
          ]
        }
      ]
    },
    {
      "cell_type": "code",
      "source": [
        "# 2. Write a program to create an abstract class Shape with a method area(). Derive classes Circle and Rectangle from it and implement the area() method in both.\n",
        "from abc import ABC, abstractmethod\n",
        "\n",
        "class Shape(ABC):\n",
        "    @abstractmethod\n",
        "    def area(self):\n",
        "        pass\n",
        "\n",
        "class Circle(Shape):\n",
        "    def __init__(self, radius):\n",
        "        self.radius = radius\n",
        "\n",
        "    def area(self):\n",
        "        return 3.14 * self.radius ** 2\n",
        "\n",
        "class Rectangle(Shape):\n",
        "    def __init__(self, length, width):\n",
        "        self.length = length\n",
        "        self.width = width\n",
        "\n",
        "    def area(self):\n",
        "        return self.length * self.width\n",
        "\n",
        "circle = Circle(5)\n",
        "rectangle = Rectangle(4, 6)\n",
        "print(\"Circle area:\", circle.area())\n",
        "print(\"Rectangle area:\", rectangle.area())\n"
      ],
      "metadata": {
        "id": "KaHe5SvJVtHZ",
        "colab": {
          "base_uri": "https://localhost:8080/"
        },
        "outputId": "ea0c2a78-a418-490c-d1b7-0418204a97ba"
      },
      "execution_count": 2,
      "outputs": [
        {
          "output_type": "stream",
          "name": "stdout",
          "text": [
            "Circle area: 78.5\n",
            "Rectangle area: 24\n"
          ]
        }
      ]
    },
    {
      "cell_type": "code",
      "source": [
        "# 3. Implement a multi-level inheritance scenario where a class Vehicle has an attribute type. Derive a class Car and further derive a class ElectricCar that adds a battery attribute.\n",
        "class Vehicle:\n",
        "    def __init__(self, type):\n",
        "        self.type = type\n",
        "\n",
        "class Car(Vehicle):\n",
        "    def __init__(self, type, brand):\n",
        "        super().__init__(type)\n",
        "        self.brand = brand\n",
        "\n",
        "class ElectricCar(Car):\n",
        "    def __init__(self, type, brand, battery):\n",
        "        super().__init__(type, brand)\n",
        "        self.battery = battery\n",
        "\n",
        "tesla = ElectricCar(\"Car\", \"Tesla\", \"85kWh\")\n",
        "print(tesla.type, tesla.brand, tesla.battery)\n"
      ],
      "metadata": {
        "id": "N8V7uy2_VtTq",
        "colab": {
          "base_uri": "https://localhost:8080/"
        },
        "outputId": "5739e920-ffb0-48e0-a1e5-c88898c7fbb5"
      },
      "execution_count": 3,
      "outputs": [
        {
          "output_type": "stream",
          "name": "stdout",
          "text": [
            "Car Tesla 85kWh\n"
          ]
        }
      ]
    },
    {
      "cell_type": "code",
      "source": [
        "# 4. Demonstrate polymorphism by creating a base class Bird with a method fly(). Create two derived classes Sparrow and Penguin that override the fly() method.\n",
        "class Bird:\n",
        "    def fly(self):\n",
        "        print(\"Birds can fly\")\n",
        "\n",
        "class Sparrow(Bird):\n",
        "    def fly(self):\n",
        "        print(\"Sparrow flies high\")\n",
        "\n",
        "class Penguin(Bird):\n",
        "    def fly(self):\n",
        "        print(\"Penguins cannot fly\")\n",
        "\n",
        "birds = [Sparrow(), Penguin()]\n",
        "for bird in birds:\n",
        "    bird.fly()\n"
      ],
      "metadata": {
        "id": "xXTaaUdrVtWS",
        "colab": {
          "base_uri": "https://localhost:8080/"
        },
        "outputId": "de9aab27-7a1a-4a5b-c376-dde7753986a4"
      },
      "execution_count": 4,
      "outputs": [
        {
          "output_type": "stream",
          "name": "stdout",
          "text": [
            "Sparrow flies high\n",
            "Penguins cannot fly\n"
          ]
        }
      ]
    },
    {
      "cell_type": "code",
      "source": [
        "# 5. Write a program to demonstrate encapsulation by creating a class BankAccount with private attributes balance and methods to deposit, withdraw, and check balance.\n",
        "class BankAccount:\n",
        "    def __init__(self, balance=0):\n",
        "        self.__balance = balance\n",
        "\n",
        "    def deposit(self, amount):\n",
        "        self.__balance += amount\n",
        "\n",
        "    def withdraw(self, amount):\n",
        "        if amount <= self.__balance:\n",
        "            self.__balance -= amount\n",
        "        else:\n",
        "            print(\"Insufficient balance\")\n",
        "\n",
        "    def check_balance(self):\n",
        "        return self.__balance\n",
        "\n",
        "account = BankAccount(1000)\n",
        "account.deposit(500)\n",
        "account.withdraw(200)\n",
        "print(\"Balance:\", account.check_balance())\n"
      ],
      "metadata": {
        "id": "EUk5kEQ6VtZG",
        "colab": {
          "base_uri": "https://localhost:8080/"
        },
        "outputId": "8e50e743-6e87-4390-8bc1-f9e1b3a420d3"
      },
      "execution_count": 5,
      "outputs": [
        {
          "output_type": "stream",
          "name": "stdout",
          "text": [
            "Balance: 1300\n"
          ]
        }
      ]
    },
    {
      "cell_type": "code",
      "source": [
        "# 6. Demonstrate runtime polymorphism using a method play() in a base class Instrument. Derive classes Guitar and Piano that implement their own version of play().\n",
        "class Instrument:\n",
        "    def play(self):\n",
        "        print(\"Instrument plays music\")\n",
        "\n",
        "class Guitar(Instrument):\n",
        "    def play(self):\n",
        "        print(\"Strumming the guitar\")\n",
        "\n",
        "class Piano(Instrument):\n",
        "    def play(self):\n",
        "        print(\"Playing the piano\")\n",
        "\n",
        "instruments = [Guitar(), Piano()]\n",
        "for i in instruments:\n",
        "    i.play()\n"
      ],
      "metadata": {
        "id": "5awnfI3AVtbs",
        "colab": {
          "base_uri": "https://localhost:8080/"
        },
        "outputId": "f3c15584-5995-4404-a00b-a149e6e5f678"
      },
      "execution_count": 6,
      "outputs": [
        {
          "output_type": "stream",
          "name": "stdout",
          "text": [
            "Strumming the guitar\n",
            "Playing the piano\n"
          ]
        }
      ]
    },
    {
      "cell_type": "code",
      "source": [
        "# 7. Create a class MathOperations with a class method add_numbers() to add two numbers and a static method subtract_numbers() to subtract two numbers.\n",
        "\n",
        "class MathOperations:\n",
        "    @classmethod\n",
        "    def add_numbers(cls, a, b):\n",
        "        return a + b\n",
        "\n",
        "    @staticmethod\n",
        "    def subtract_numbers(a, b):\n",
        "        return a - b\n",
        "\n",
        "print(\"Addition:\", MathOperations.add_numbers(5, 3))\n",
        "print(\"Subtraction:\", MathOperations.subtract_numbers(10, 4))\n"
      ],
      "metadata": {
        "id": "f60RJm-8VteI",
        "colab": {
          "base_uri": "https://localhost:8080/"
        },
        "outputId": "4c7e5f80-5464-4c25-8fda-b5ff2df7a15a"
      },
      "execution_count": 7,
      "outputs": [
        {
          "output_type": "stream",
          "name": "stdout",
          "text": [
            "Addition: 8\n",
            "Subtraction: 6\n"
          ]
        }
      ]
    },
    {
      "cell_type": "code",
      "source": [
        "# 8. Implement a class Person with a class method to count the total number of persons created.\n",
        "class Person:\n",
        "    count = 0\n",
        "\n",
        "    def __init__(self, name):\n",
        "        self.name = name\n",
        "        Person.count += 1\n",
        "\n",
        "    @classmethod\n",
        "    def total_persons(cls):\n",
        "        return cls.count\n",
        "\n",
        "p1 = Person(\"Suyesha\")\n",
        "p2 = Person(\"Ankit\")\n",
        "print(\"Total persons:\", Person.total_persons())\n"
      ],
      "metadata": {
        "id": "4tz3zEGTVtgt",
        "colab": {
          "base_uri": "https://localhost:8080/"
        },
        "outputId": "906cd65d-1bb4-4172-c8e2-d9311a0f4bae"
      },
      "execution_count": 8,
      "outputs": [
        {
          "output_type": "stream",
          "name": "stdout",
          "text": [
            "Total persons: 2\n"
          ]
        }
      ]
    },
    {
      "cell_type": "code",
      "source": [
        "#  9. Write a class Fraction with attributes numerator and denominator. Override the str method to display the fraction as \"numerator/denominator\".\n",
        "class Fraction:\n",
        "    def __init__(self, numerator, denominator):\n",
        "        self.numerator = numerator\n",
        "        self.denominator = denominator\n",
        "\n",
        "    def __str__(self):\n",
        "        return f\"{self.numerator}/{self.denominator}\"\n",
        "\n",
        "frac = Fraction(3, 4)\n",
        "print(frac)\n"
      ],
      "metadata": {
        "id": "deUqQRlmVtjZ",
        "colab": {
          "base_uri": "https://localhost:8080/"
        },
        "outputId": "f40ec024-c028-424e-d2bf-9ae667f35722"
      },
      "execution_count": 9,
      "outputs": [
        {
          "output_type": "stream",
          "name": "stdout",
          "text": [
            "3/4\n"
          ]
        }
      ]
    },
    {
      "cell_type": "code",
      "source": [
        "# 10. Demonstrate operator overloading by creating a class Vector and overriding the add method to add two vectors.\n",
        "class Vector:\n",
        "    def __init__(self, x, y):\n",
        "        self.x = x\n",
        "        self.y = y\n",
        "\n",
        "    def __add__(self, other):\n",
        "        return Vector(self.x + other.x, self.y + other.y)\n",
        "\n",
        "    def __str__(self):\n",
        "        return f\"Vector({self.x}, {self.y})\"\n",
        "\n",
        "v1 = Vector(2, 3)\n",
        "v2 = Vector(4, 5)\n",
        "print(v1 + v2)\n"
      ],
      "metadata": {
        "id": "Cs1PXVzlVtlt",
        "colab": {
          "base_uri": "https://localhost:8080/"
        },
        "outputId": "99ae2bec-083a-4d43-a7d2-569942065da1"
      },
      "execution_count": 10,
      "outputs": [
        {
          "output_type": "stream",
          "name": "stdout",
          "text": [
            "Vector(6, 8)\n"
          ]
        }
      ]
    },
    {
      "cell_type": "code",
      "source": [
        "# 11. Create a class Person with attributes name and age. Add a method greet() that prints \"Hello, my name is {name} and I am {age} years old.\"\n",
        "class Person:\n",
        "    def __init__(self, name, age):\n",
        "        self.name = name\n",
        "        self.age = age\n",
        "\n",
        "    def greet(self):\n",
        "        print(f\"Hello, my name is {self.name} and I am {self.age} years old.\")\n",
        "\n",
        "p = Person(\"Suyesha\", 22)\n",
        "p.greet()\n"
      ],
      "metadata": {
        "id": "Ry_MNpgfVtoU",
        "colab": {
          "base_uri": "https://localhost:8080/"
        },
        "outputId": "f426f734-3a31-4c7d-8fad-a0ad34b04545"
      },
      "execution_count": 11,
      "outputs": [
        {
          "output_type": "stream",
          "name": "stdout",
          "text": [
            "Hello, my name is Suyesha and I am 22 years old.\n"
          ]
        }
      ]
    },
    {
      "cell_type": "code",
      "source": [
        "# 12. Implement a class Student with attributes name and grades. Create a method average_grade() to compute the average of the grades.\n",
        "class Student:\n",
        "    def __init__(self, name, grades):\n",
        "        self.name = name\n",
        "        self.grades = grades\n",
        "\n",
        "    def average_grade(self):\n",
        "        return sum(self.grades) / len(self.grades)\n",
        "\n",
        "s = Student(\"Ravi\", [80, 90, 85])\n",
        "print(\"Average grade:\", s.average_grade())\n"
      ],
      "metadata": {
        "id": "1FgiRakfVtrA",
        "colab": {
          "base_uri": "https://localhost:8080/"
        },
        "outputId": "6cfe0507-5f84-40f3-b4fd-6243a5d6662e"
      },
      "execution_count": 12,
      "outputs": [
        {
          "output_type": "stream",
          "name": "stdout",
          "text": [
            "Average grade: 85.0\n"
          ]
        }
      ]
    },
    {
      "cell_type": "code",
      "source": [
        "# 13. Create a class Rectangle with methods set_dimensions() to set the dimensions and area() to calculate the area.\n",
        "class Rectangle:\n",
        "    def set_dimensions(self, length, width):\n",
        "        self.length = length\n",
        "        self.width = width\n",
        "\n",
        "    def area(self):\n",
        "        return self.length * self.width\n",
        "\n",
        "rect = Rectangle()\n",
        "rect.set_dimensions(5, 10)\n",
        "print(\"Area:\", rect.area())\n"
      ],
      "metadata": {
        "id": "-WRmkQquVttz",
        "colab": {
          "base_uri": "https://localhost:8080/"
        },
        "outputId": "b3806b51-3195-4030-f664-8fab5353887a"
      },
      "execution_count": 13,
      "outputs": [
        {
          "output_type": "stream",
          "name": "stdout",
          "text": [
            "Area: 50\n"
          ]
        }
      ]
    },
    {
      "cell_type": "code",
      "source": [
        "# 14. Create a class Employee with a method calculate_salary() that computes the salary based on hours worked and hourly rate. Create a derived class Manager that adds a bonus to the salary\n",
        "class Employee:\n",
        "    def calculate_salary(self, hours, rate):\n",
        "        return hours * rate\n",
        "\n",
        "class Manager(Employee):\n",
        "    def calculate_salary(self, hours, rate, bonus):\n",
        "        return super().calculate_salary(hours, rate) + bonus\n",
        "\n",
        "emp = Employee()\n",
        "mgr = Manager()\n",
        "print(\"Employee Salary:\", emp.calculate_salary(40, 50))\n",
        "print(\"Manager Salary:\", mgr.calculate_salary(40, 50, 2000))\n"
      ],
      "metadata": {
        "id": "Oq2F9zkTVtwn",
        "colab": {
          "base_uri": "https://localhost:8080/"
        },
        "outputId": "4de20b6d-da60-4f1e-8d1c-684506b305dc"
      },
      "execution_count": 14,
      "outputs": [
        {
          "output_type": "stream",
          "name": "stdout",
          "text": [
            "Employee Salary: 2000\n",
            "Manager Salary: 4000\n"
          ]
        }
      ]
    },
    {
      "cell_type": "code",
      "source": [
        "# 15. Create a class Product with attributes name, price, and quantity. Implement a method total_price() that calculates the total price of the product.\n",
        "class Product:\n",
        "    def __init__(self, name, price, quantity):\n",
        "        self.name = name\n",
        "        self.price = price\n",
        "        self.quantity = quantity\n",
        "\n",
        "    def total_price(self):\n",
        "        return self.price * self.quantity\n",
        "\n",
        "p = Product(\"Laptop\", 60000, 2)\n",
        "print(\"Total Price:\", p.total_price())\n"
      ],
      "metadata": {
        "id": "qr_v94q2Vtzb",
        "colab": {
          "base_uri": "https://localhost:8080/"
        },
        "outputId": "1ed58a14-5bc8-46fc-c3a6-079067b9a601"
      },
      "execution_count": 15,
      "outputs": [
        {
          "output_type": "stream",
          "name": "stdout",
          "text": [
            "Total Price: 120000\n"
          ]
        }
      ]
    },
    {
      "cell_type": "code",
      "source": [
        "# 16. Create a class Animal with an abstract method sound(). Create two derived classes Cow and Sheep that implement the sound() method.\n",
        "from abc import ABC, abstractmethod\n",
        "\n",
        "class Animal(ABC):\n",
        "    @abstractmethod\n",
        "    def sound(self):\n",
        "        pass\n",
        "\n",
        "class Cow(Animal):\n",
        "    def sound(self):\n",
        "        return \"Moo\"\n",
        "\n",
        "class Sheep(Animal):\n",
        "    def sound(self):\n",
        "        return \"Baa\"\n",
        "\n",
        "cow = Cow()\n",
        "sheep = Sheep()\n",
        "print(cow.sound())\n",
        "print(sheep.sound())\n"
      ],
      "metadata": {
        "id": "IDeb5jX3Vt2F",
        "colab": {
          "base_uri": "https://localhost:8080/"
        },
        "outputId": "1835b51d-175f-42b0-ea63-1c9862c0a232"
      },
      "execution_count": 16,
      "outputs": [
        {
          "output_type": "stream",
          "name": "stdout",
          "text": [
            "Moo\n",
            "Baa\n"
          ]
        }
      ]
    },
    {
      "cell_type": "code",
      "source": [
        "# 17. Create a class Book with attributes title, author, and year_published. Add a method get_book_info() that returns a formatted string with the book's details.\n",
        "class Book:\n",
        "    def __init__(self, title, author, year_published):\n",
        "        self.title = title\n",
        "        self.author = author\n",
        "        self.year_published = year_published\n",
        "\n",
        "    def get_book_info(self):\n",
        "        return f\"'{self.title}' by {self.author}, published in {self.year_published}\"\n",
        "\n",
        "b = Book(\"Python Programming\", \"John Doe\", 2021)\n",
        "print(b.get_book_info())\n",
        "\n"
      ],
      "metadata": {
        "id": "jBWkBNGOVt4f",
        "colab": {
          "base_uri": "https://localhost:8080/"
        },
        "outputId": "397cdc54-6591-4b52-c7fa-721cdd6a49ff"
      },
      "execution_count": 17,
      "outputs": [
        {
          "output_type": "stream",
          "name": "stdout",
          "text": [
            "'Python Programming' by John Doe, published in 2021\n"
          ]
        }
      ]
    },
    {
      "cell_type": "code",
      "source": [
        "# 18. Create a class House with attributes address and price. Create a derived class Mansion that adds an attribute number_of_rooms.\n",
        "class House:\n",
        "    def __init__(self, address, price):\n",
        "        self.address = address\n",
        "        self.price = price\n",
        "\n",
        "class Mansion(House):\n",
        "    def __init__(self, address, price, number_of_rooms):\n",
        "        super().__init__(address, price)\n",
        "        self.number_of_rooms = number_of_rooms\n",
        "\n",
        "m = Mansion(\"Pune\", 50000000, 10)\n",
        "print(m.address, m.price, m.number_of_rooms)\n"
      ],
      "metadata": {
        "id": "ZcqcLfAjVt7B",
        "colab": {
          "base_uri": "https://localhost:8080/"
        },
        "outputId": "214c9255-5b67-499d-e12a-fb910bd031e9"
      },
      "execution_count": 18,
      "outputs": [
        {
          "output_type": "stream",
          "name": "stdout",
          "text": [
            "Pune 50000000 10\n"
          ]
        }
      ]
    }
  ]
}